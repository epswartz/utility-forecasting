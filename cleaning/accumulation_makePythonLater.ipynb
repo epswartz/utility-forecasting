{
 "cells": [
  {
   "cell_type": "markdown",
   "metadata": {},
   "source": [
    "# Delete this file later and make python"
   ]
  },
  {
   "cell_type": "code",
   "execution_count": 1,
   "metadata": {},
   "outputs": [],
   "source": [
    "#import statements\n",
    "import matplotlib.pyplot as plt\n",
    "import matplotlib.colors as colors\n",
    "import pandas as pd\n",
    "import numpy as np\n",
    "import numpy.ma as ma\n",
    "from datetime import datetime"
   ]
  },
  {
   "cell_type": "code",
   "execution_count": 33,
   "metadata": {},
   "outputs": [],
   "source": [
    "#read data (delete later)\n",
    "hhw_data_daily = pd.read_csv(\"../.././data/formatted_3year/cleaned/daily/cleaned_hhw_01-01-2017_06-14-2020.csv\")\n",
    "chw_data_daily = pd.read_csv(\"../.././data/formatted_3year/cleaned/daily/cleaned_chw_01-01-2017_06-14-2020.csv\")\n",
    "steam_data_daily = pd.read_csv(\"../.././data/formatted_3year/cleaned/daily/cleaned_steam_01-01-2017_06-14-2020.csv\")"
   ]
  },
  {
   "cell_type": "code",
   "execution_count": 78,
   "metadata": {},
   "outputs": [],
   "source": [
    "#given data as indexed dataframe and freq as M or W\n",
    "#removes the nans before accumulating- so nans aren't included in final output\n",
    "def accumulate(dataGiven, freq):\n",
    "    data=dataGiven.copy()\n",
    "    col=data.columns[0]\n",
    "    \n",
    "    #keep dropping the element in the first place if it is nan, when it is not nan break\n",
    "    while len(data[col])>0:\n",
    "        if np.isnan(data[col][0]):\n",
    "            data.drop(data.index[0], inplace=True)\n",
    "        #break when no more nans\n",
    "        else:\n",
    "            break\n",
    "    \n",
    "    #fill the rest of the nans in the dataset with 0\n",
    "    data=data.fillna(value=0, axis='columns')\n",
    "    \n",
    "    #aggregate the data to the desired frequency\n",
    "    data.index = pd.to_datetime(data.index)\n",
    "    aggregated_data = data.groupby(pd.Grouper(freq=freq)).sum()\n",
    "            \n",
    "    return aggregated_data[col]\n",
    "\n",
    "def accumulate_testing(dataGiven, freq):\n",
    "    data=dataGiven.copy()\n",
    "    data.reset_index()\n",
    "    indexColName=data.columns[0]\n",
    "    for col in data.columns:\n",
    "        if col=='[7737] Student Health and Wellness Center, Student Affairs':\n",
    "            new_data=pd.DataFrame(columns=[indexColName, col])\n",
    "            new_data[indexColName]=data[indexColName]\n",
    "            new_data[col]=data[col]\n",
    "            new_data.set_index(indexColName, inplace=True)\n",
    "            print(\"new data:\", new_data)\n",
    "            #print_all_df(new_data)\n",
    "            accumulate(new_data, freq)\n",
    "            "
   ]
  },
  {
   "cell_type": "code",
   "execution_count": 80,
   "metadata": {},
   "outputs": [
    {
     "name": "stdout",
     "output_type": "stream",
     "text": [
      "new data:             [7737] Student Health and Wellness Center, Student Affairs\n",
      "dt                                                                    \n",
      "2017-01-01                                                NaN         \n",
      "2017-01-02                                                NaN         \n",
      "2017-01-03                                                NaN         \n",
      "2017-01-04                                                NaN         \n",
      "2017-01-05                                                NaN         \n",
      "...                                                       ...         \n",
      "2020-06-10                                             2845.0         \n",
      "2020-06-11                                             3197.0         \n",
      "2020-06-12                                             3224.0         \n",
      "2020-06-13                                             3435.0         \n",
      "2020-06-14                                             3596.0         \n",
      "\n",
      "[1258 rows x 1 columns]\n",
      "Columns in function: [7737] Student Health and Wellness Center, Student Affairs\n",
      "data after removing nans:             [7737] Student Health and Wellness Center, Student Affairs\n",
      "dt                                                                    \n",
      "2017-01-14                                            20105.0         \n",
      "2017-01-15                                            20622.0         \n",
      "2017-01-16                                            29303.0         \n",
      "2017-01-17                                            26665.0         \n",
      "2017-01-18                                            13331.0         \n",
      "...                                                       ...         \n",
      "2020-06-10                                             2845.0         \n",
      "2020-06-11                                             3197.0         \n",
      "2020-06-12                                             3224.0         \n",
      "2020-06-13                                             3435.0         \n",
      "2020-06-14                                             3596.0         \n",
      "\n",
      "[1245 rows x 1 columns]\n",
      "aggregated data:             [7737] Student Health and Wellness Center, Student Affairs\n",
      "dt                                                                    \n",
      "2017-01-15                                            40727.0         \n",
      "2017-01-22                                           155936.0         \n",
      "2017-01-29                                           143915.0         \n",
      "2017-02-05                                           129461.0         \n",
      "2017-02-12                                            98090.4         \n",
      "...                                                       ...         \n",
      "2020-05-17                                            32295.0         \n",
      "2020-05-24                                            32400.5         \n",
      "2020-05-31                                            27400.0         \n",
      "2020-06-07                                            22266.0         \n",
      "2020-06-14                                            22691.0         \n",
      "\n",
      "[179 rows x 1 columns]\n"
     ]
    }
   ],
   "source": [
    "accumulate_testing(hhw_data_daily, 'W')"
   ]
  },
  {
   "cell_type": "code",
   "execution_count": null,
   "metadata": {},
   "outputs": [],
   "source": [
    "# Random deleted"
   ]
  },
  {
   "cell_type": "code",
   "execution_count": null,
   "metadata": {},
   "outputs": [],
   "source": [
    "    \n",
    "    #find the index of the first entery that isn't nan\n",
    "    \"\"\"firstEntry=0\n",
    "    for i in range(len(data[col])):\n",
    "        if not np.isnan(data[col][i]):\n",
    "            break\n",
    "        firstEntry+=1\n",
    "    print(\"firstEntry:\", firstEntry)\n",
    "    \n",
    "    #make a new dataframe with no nans- NOTE try to do this with drop\n",
    "    data_no_nans=pd.DataFrame(index=data.index[firstEntry:], columns=[col])  \n",
    "    data_no_nans[col]=data[col][firstEntry:]\"\"\""
   ]
  }
 ],
 "metadata": {
  "kernelspec": {
   "display_name": "Python 3",
   "language": "python",
   "name": "python3"
  },
  "language_info": {
   "codemirror_mode": {
    "name": "ipython",
    "version": 3
   },
   "file_extension": ".py",
   "mimetype": "text/x-python",
   "name": "python",
   "nbconvert_exporter": "python",
   "pygments_lexer": "ipython3",
   "version": "3.8.3"
  }
 },
 "nbformat": 4,
 "nbformat_minor": 4
}
